{
 "cells": [
  {
   "cell_type": "markdown",
   "id": "8792ba1b",
   "metadata": {},
   "source": [
    "# Projekt - Uvod u znanost o podacima \n",
    "U sklopu ovog dokumenta implementiran je projektni zadatak kolegija \"Uvod u znanost o podacima\" na Faklutetu elektrotehnike i računarstva. Cilj ovog projekta je replicirati te na kraju poboljšati temu znanstvenog rada \"Implementation of Machine Learning Model to Predict Heart Failure Disease.\""
   ]
  },
  {
   "cell_type": "markdown",
   "id": "e4404821",
   "metadata": {},
   "source": [
    "# Opis projektnog zadataka\n",
    "Cilj ovog projektnog zadatka je replicirati te zatim poboljšati temu znanstvenog rada \"Implementation of Machine Learning Model to Predict Heart Failure Disease\". Svrha spomenutog znanstvenog rada je razviti prediktivne modele u području medicine. U radu su implementirani ML algoritmi za predikciju srčanih bolesti. Podatkovni skup rada predstavlja podatke pacijenata.\n",
    "\n",
    "Projekt je podjeljen na tri dijela:\n",
    " - 1. Priprema i vizualizacija podataka\n",
    " - 2. Replikacija rezultata\n",
    " - 3. Poboljšanje rezultata\n",
    " \n"
   ]
  },
  {
   "cell_type": "markdown",
   "id": "9401414c",
   "metadata": {},
   "source": [
    "# 1. Priprema i vizualizacija podataka"
   ]
  },
  {
   "cell_type": "markdown",
   "id": "be49edea",
   "metadata": {},
   "source": [
    "Podaci su početni korak svakog modela strojnog učenja, stoga potrebno je učitati te zatim očisiti podatke. Podkatkovni skup koji se koristi u implementaciji ovog projekta je \"Heart Failure Prediction Dataset\" , dostupan na sljedećoj poveznici: https://www.kaggle.com/datasets/fedesoriano/heart-failure-prediction\n",
    "Prvi korak je učitati podatke. To ćemo učinit putem Python biblioteke - \"Pandas\"."
   ]
  },
  {
   "cell_type": "code",
   "execution_count": 1,
   "id": "0d483e05",
   "metadata": {},
   "outputs": [],
   "source": [
    "#Importing the necessery libarys\n",
    "import pandas as pd\n",
    "import numpy as np"
   ]
  },
  {
   "cell_type": "markdown",
   "id": "574c36f6",
   "metadata": {},
   "source": [
    "U varijablu *data_set* ćemo učitati podatkovni skup. Pogledajmo sadržaj te varijable"
   ]
  },
  {
   "cell_type": "code",
   "execution_count": 6,
   "id": "c8744c50",
   "metadata": {},
   "outputs": [
    {
     "name": "stdout",
     "output_type": "stream",
     "text": [
      "The dimension of data set is :  (297, 14)\n"
     ]
    }
   ],
   "source": [
    "data_set=pd.read_csv(\"data/heart_cleveland_upload.csv\")\n",
    "print(\"The dimension of data set is : \",data_set.shape)"
   ]
  },
  {
   "cell_type": "markdown",
   "id": "a2ab69b3",
   "metadata": {},
   "source": [
    "Kao što je evidentno u prijašnjem ispisu, vidimo da raspolažemo s 297 podatka , gdje je svaki od njih opisan sa 14 varijabli.\n",
    "Na raspolaganju nemamo veliku količinu podatka , s obzirom da su modeli strojnog učenja nekada trenirani na podatkovnim skupovima od nekoliko milijona zapisa. Bez obira na malu količinu zapisa , i dalje možemo razviti adekvatan model strojnog učenja uz uvijet da su podaci u cijelosti ispravni. Prije provjere ispravnosti podataka pogledajmo pobliže prirodu našeg podatkovnog skupa."
   ]
  },
  {
   "cell_type": "code",
   "execution_count": 8,
   "id": "00205c8e",
   "metadata": {},
   "outputs": [
    {
     "name": "stdout",
     "output_type": "stream",
     "text": [
      "Name of the columns:  ['age', 'sex', 'cp', 'trestbps', 'chol', 'fbs', 'restecg', 'thalach', 'exang', 'oldpeak', 'slope', 'ca', 'thal', 'condition']\n"
     ]
    }
   ],
   "source": [
    "print(\"Name of the columns: \",list(data_set.columns))"
   ]
  },
  {
   "cell_type": "markdown",
   "id": "e1523bdc",
   "metadata": {},
   "source": [
    "Iz imena stupca moguće je shvatiti koju informaciju sadrži pojedini stupac. Ali zbog preglednosti opisat ćemo zančenje pojedinog stupca:\n",
    "- \"age\" = Starost ispitanika.\n",
    "- \"sex\" = Spol ispitanika.\n",
    "- \"cp\" = Razina boli u plućima\n",
    "- \"trestbps\" = Vrijednost krvnog tlaka ispitanika.\n",
    "- \"chol\" = Razina kolesterola ispitanika\n",
    "- \"fbs\" = Razina šećera u krvi\n",
    "- \"restecg\" = Rezultat ECG-a pacijeta\n",
    "- \"thalach\" = Najveća vrijednost otkucaja srca u pacijenta.\n",
    "- \"Exang\" = Zastavica , koja govori da li vježba uzrokuje upalu grla\n",
    "- \"oldpeak\" = Vrijednost koja predstavlja utjecaj depresije na pacijenta.\n",
    "- \"slope\" = Zastavica koja predstavlja stanje ispitanika tijekom fizičke aktivnosti\n",
    "- \"ca\" = Vrijednost statusa fluoroskopija\n",
    "- \"thal\" = Rezultati Thallium testa (testa za pacijente s poteškoćama u disanju).\n",
    "- \"condition\" = Label stupac."
   ]
  },
  {
   "cell_type": "markdown",
   "id": "9bc37aa0",
   "metadata": {},
   "source": [
    "Sada znamo s kakvim podacima raspolažemo. Pogledajmo detaljno ponašanje svih varijabli u našem odatkovnog skupu."
   ]
  },
  {
   "cell_type": "code",
   "execution_count": 9,
   "id": "904cd890",
   "metadata": {
    "scrolled": true
   },
   "outputs": [
    {
     "data": {
      "text/html": [
       "<div>\n",
       "<style scoped>\n",
       "    .dataframe tbody tr th:only-of-type {\n",
       "        vertical-align: middle;\n",
       "    }\n",
       "\n",
       "    .dataframe tbody tr th {\n",
       "        vertical-align: top;\n",
       "    }\n",
       "\n",
       "    .dataframe thead th {\n",
       "        text-align: right;\n",
       "    }\n",
       "</style>\n",
       "<table border=\"1\" class=\"dataframe\">\n",
       "  <thead>\n",
       "    <tr style=\"text-align: right;\">\n",
       "      <th></th>\n",
       "      <th>age</th>\n",
       "      <th>sex</th>\n",
       "      <th>cp</th>\n",
       "      <th>trestbps</th>\n",
       "      <th>chol</th>\n",
       "      <th>fbs</th>\n",
       "      <th>restecg</th>\n",
       "      <th>thalach</th>\n",
       "      <th>exang</th>\n",
       "      <th>oldpeak</th>\n",
       "      <th>slope</th>\n",
       "      <th>ca</th>\n",
       "      <th>thal</th>\n",
       "      <th>condition</th>\n",
       "    </tr>\n",
       "  </thead>\n",
       "  <tbody>\n",
       "    <tr>\n",
       "      <th>count</th>\n",
       "      <td>297.000000</td>\n",
       "      <td>297.000000</td>\n",
       "      <td>297.000000</td>\n",
       "      <td>297.000000</td>\n",
       "      <td>297.000000</td>\n",
       "      <td>297.000000</td>\n",
       "      <td>297.000000</td>\n",
       "      <td>297.000000</td>\n",
       "      <td>297.000000</td>\n",
       "      <td>297.000000</td>\n",
       "      <td>297.000000</td>\n",
       "      <td>297.000000</td>\n",
       "      <td>297.000000</td>\n",
       "      <td>297.000000</td>\n",
       "    </tr>\n",
       "    <tr>\n",
       "      <th>mean</th>\n",
       "      <td>54.542088</td>\n",
       "      <td>0.676768</td>\n",
       "      <td>2.158249</td>\n",
       "      <td>131.693603</td>\n",
       "      <td>247.350168</td>\n",
       "      <td>0.144781</td>\n",
       "      <td>0.996633</td>\n",
       "      <td>149.599327</td>\n",
       "      <td>0.326599</td>\n",
       "      <td>1.055556</td>\n",
       "      <td>0.602694</td>\n",
       "      <td>0.676768</td>\n",
       "      <td>0.835017</td>\n",
       "      <td>0.461279</td>\n",
       "    </tr>\n",
       "    <tr>\n",
       "      <th>std</th>\n",
       "      <td>9.049736</td>\n",
       "      <td>0.468500</td>\n",
       "      <td>0.964859</td>\n",
       "      <td>17.762806</td>\n",
       "      <td>51.997583</td>\n",
       "      <td>0.352474</td>\n",
       "      <td>0.994914</td>\n",
       "      <td>22.941562</td>\n",
       "      <td>0.469761</td>\n",
       "      <td>1.166123</td>\n",
       "      <td>0.618187</td>\n",
       "      <td>0.938965</td>\n",
       "      <td>0.956690</td>\n",
       "      <td>0.499340</td>\n",
       "    </tr>\n",
       "    <tr>\n",
       "      <th>min</th>\n",
       "      <td>29.000000</td>\n",
       "      <td>0.000000</td>\n",
       "      <td>0.000000</td>\n",
       "      <td>94.000000</td>\n",
       "      <td>126.000000</td>\n",
       "      <td>0.000000</td>\n",
       "      <td>0.000000</td>\n",
       "      <td>71.000000</td>\n",
       "      <td>0.000000</td>\n",
       "      <td>0.000000</td>\n",
       "      <td>0.000000</td>\n",
       "      <td>0.000000</td>\n",
       "      <td>0.000000</td>\n",
       "      <td>0.000000</td>\n",
       "    </tr>\n",
       "    <tr>\n",
       "      <th>25%</th>\n",
       "      <td>48.000000</td>\n",
       "      <td>0.000000</td>\n",
       "      <td>2.000000</td>\n",
       "      <td>120.000000</td>\n",
       "      <td>211.000000</td>\n",
       "      <td>0.000000</td>\n",
       "      <td>0.000000</td>\n",
       "      <td>133.000000</td>\n",
       "      <td>0.000000</td>\n",
       "      <td>0.000000</td>\n",
       "      <td>0.000000</td>\n",
       "      <td>0.000000</td>\n",
       "      <td>0.000000</td>\n",
       "      <td>0.000000</td>\n",
       "    </tr>\n",
       "    <tr>\n",
       "      <th>50%</th>\n",
       "      <td>56.000000</td>\n",
       "      <td>1.000000</td>\n",
       "      <td>2.000000</td>\n",
       "      <td>130.000000</td>\n",
       "      <td>243.000000</td>\n",
       "      <td>0.000000</td>\n",
       "      <td>1.000000</td>\n",
       "      <td>153.000000</td>\n",
       "      <td>0.000000</td>\n",
       "      <td>0.800000</td>\n",
       "      <td>1.000000</td>\n",
       "      <td>0.000000</td>\n",
       "      <td>0.000000</td>\n",
       "      <td>0.000000</td>\n",
       "    </tr>\n",
       "    <tr>\n",
       "      <th>75%</th>\n",
       "      <td>61.000000</td>\n",
       "      <td>1.000000</td>\n",
       "      <td>3.000000</td>\n",
       "      <td>140.000000</td>\n",
       "      <td>276.000000</td>\n",
       "      <td>0.000000</td>\n",
       "      <td>2.000000</td>\n",
       "      <td>166.000000</td>\n",
       "      <td>1.000000</td>\n",
       "      <td>1.600000</td>\n",
       "      <td>1.000000</td>\n",
       "      <td>1.000000</td>\n",
       "      <td>2.000000</td>\n",
       "      <td>1.000000</td>\n",
       "    </tr>\n",
       "    <tr>\n",
       "      <th>max</th>\n",
       "      <td>77.000000</td>\n",
       "      <td>1.000000</td>\n",
       "      <td>3.000000</td>\n",
       "      <td>200.000000</td>\n",
       "      <td>564.000000</td>\n",
       "      <td>1.000000</td>\n",
       "      <td>2.000000</td>\n",
       "      <td>202.000000</td>\n",
       "      <td>1.000000</td>\n",
       "      <td>6.200000</td>\n",
       "      <td>2.000000</td>\n",
       "      <td>3.000000</td>\n",
       "      <td>2.000000</td>\n",
       "      <td>1.000000</td>\n",
       "    </tr>\n",
       "  </tbody>\n",
       "</table>\n",
       "</div>"
      ],
      "text/plain": [
       "              age         sex          cp    trestbps        chol         fbs  \\\n",
       "count  297.000000  297.000000  297.000000  297.000000  297.000000  297.000000   \n",
       "mean    54.542088    0.676768    2.158249  131.693603  247.350168    0.144781   \n",
       "std      9.049736    0.468500    0.964859   17.762806   51.997583    0.352474   \n",
       "min     29.000000    0.000000    0.000000   94.000000  126.000000    0.000000   \n",
       "25%     48.000000    0.000000    2.000000  120.000000  211.000000    0.000000   \n",
       "50%     56.000000    1.000000    2.000000  130.000000  243.000000    0.000000   \n",
       "75%     61.000000    1.000000    3.000000  140.000000  276.000000    0.000000   \n",
       "max     77.000000    1.000000    3.000000  200.000000  564.000000    1.000000   \n",
       "\n",
       "          restecg     thalach       exang     oldpeak       slope          ca  \\\n",
       "count  297.000000  297.000000  297.000000  297.000000  297.000000  297.000000   \n",
       "mean     0.996633  149.599327    0.326599    1.055556    0.602694    0.676768   \n",
       "std      0.994914   22.941562    0.469761    1.166123    0.618187    0.938965   \n",
       "min      0.000000   71.000000    0.000000    0.000000    0.000000    0.000000   \n",
       "25%      0.000000  133.000000    0.000000    0.000000    0.000000    0.000000   \n",
       "50%      1.000000  153.000000    0.000000    0.800000    1.000000    0.000000   \n",
       "75%      2.000000  166.000000    1.000000    1.600000    1.000000    1.000000   \n",
       "max      2.000000  202.000000    1.000000    6.200000    2.000000    3.000000   \n",
       "\n",
       "             thal   condition  \n",
       "count  297.000000  297.000000  \n",
       "mean     0.835017    0.461279  \n",
       "std      0.956690    0.499340  \n",
       "min      0.000000    0.000000  \n",
       "25%      0.000000    0.000000  \n",
       "50%      0.000000    0.000000  \n",
       "75%      2.000000    1.000000  \n",
       "max      2.000000    1.000000  "
      ]
     },
     "execution_count": 9,
     "metadata": {},
     "output_type": "execute_result"
    }
   ],
   "source": [
    "data_set.describe()"
   ]
  },
  {
   "cell_type": "markdown",
   "id": "5d46b7a2",
   "metadata": {},
   "source": [
    "Iz gornje tablice vidljivo je da raspolažemo isključvo sa numeričkim podacima. Važno je naglasiti da se u par varijabli numeričke vrijednosti koriste kao klasifikator.\n",
    "Nakon što smo se upoznali sa strukturom data-seta, potrebno je ispitati prisustvo null-vrijednosti u našem skupu. Null vrijednosti unutar nekog data seta predstavljaju veliku opasnost koji mogu dovesti do nestabilih modela strojnog učenje i loših predikcija.\n",
    "Ispitajmo broj nedostajućih vrijednosti po varijabli(stupcu) unutar našeg odatkovnog skupa."
   ]
  },
  {
   "cell_type": "code",
   "execution_count": 10,
   "id": "8d8863cd",
   "metadata": {},
   "outputs": [
    {
     "data": {
      "text/plain": [
       "age          0\n",
       "sex          0\n",
       "cp           0\n",
       "trestbps     0\n",
       "chol         0\n",
       "fbs          0\n",
       "restecg      0\n",
       "thalach      0\n",
       "exang        0\n",
       "oldpeak      0\n",
       "slope        0\n",
       "ca           0\n",
       "thal         0\n",
       "condition    0\n",
       "dtype: int64"
      ]
     },
     "execution_count": 10,
     "metadata": {},
     "output_type": "execute_result"
    }
   ],
   "source": [
    "data_set.isna().sum()"
   ]
  },
  {
   "cell_type": "markdown",
   "id": "27ac8168",
   "metadata": {},
   "source": [
    "iz gornjeg ispisa možemo potvridit da u našem podatkovnm skupu nije prisutna niti jedna nedostajuća vrijednost.Ovo je odlično jer to znači da ne trebamo raditi nikakve modifikacije nad našim podatkovnim skupom."
   ]
  },
  {
   "cell_type": "markdown",
   "id": "bafd9359",
   "metadata": {},
   "source": [
    "Prvi stupac u našem podatkovnom skupu predstavlja starost ispitanika. Pogledajmo bolje ponašanje te varijable. Na sljedećem histogramu prikazan je broj pacijenata grupiran po starosti."
   ]
  },
  {
   "cell_type": "code",
   "execution_count": 20,
   "id": "2857a692",
   "metadata": {},
   "outputs": [
    {
     "data": {
      "image/png": "[encoded data removed]",
      "text/plain": [
       "<Figure size 432x432 with 1 Axes>"
      ]
     },
     "metadata": {
      "needs_background": "light"
     },
     "output_type": "display_data"
    }
   ],
   "source": [
    "import matplotlib.pyplot as plt\n",
    "plt.figure(figsize=(6,6))\n",
    "plt.hist(data_set[\"age\"], edgecolor='black',linewidth=1.2)\n",
    "plt.xlabel('Age')\n",
    "plt.ylabel('Number of patients')\n",
    "plt.title('Raspodijela starosti među isptanicima')\n",
    "plt.show()\n"
   ]
  },
  {
   "cell_type": "markdown",
   "id": "7c132a86",
   "metadata": {},
   "source": [
    "Evidentno je da većina ispitanika su starije životne dobi. Nadalje pogledajmo omjer muških i ženskih ispitanika u našem podatkovnom skupu."
   ]
  },
  {
   "cell_type": "code",
   "execution_count": 40,
   "id": "ced3444a",
   "metadata": {},
   "outputs": [
    {
     "data": {
      "image/png": "[encoded data removed]",
      "text/plain": [
       "<Figure size 360x360 with 1 Axes>"
      ]
     },
     "metadata": {},
     "output_type": "display_data"
    }
   ],
   "source": [
    "MF=data_set['sex'].value_counts()\n",
    "MF.columns=[\"Men\",\"Women\"]\n",
    "plt.figure(figsize=(5,5))\n",
    "plt.pie(data_set['sex'].value_counts(),labels=[\"Men\",\"Women\"],colors=[\"lightblue\",\"pink\"],)\n",
    "plt.title(\"Odnos broja muških i ženskih ispitanika\")\n",
    "plt.show()"
   ]
  },
  {
   "cell_type": "markdown",
   "id": "11b3dd58",
   "metadata": {},
   "source": [
    "Broj muškaraca je znatno veći od broja žena.\n",
    "Zadnji stupac u podatkovnom skupu predstavlja binarnu varijablu, gdje vrijednost 0 predstavlja slabu vjerojatnost za zastoj srca kod pacijenta, a vrijednost 1 visoku vjerojatnost.\n",
    "Prvo pogledajmo zastupljenost visoke i niske šanse za zastoj srca kod muškaraca i žena."
   ]
  },
  {
   "cell_type": "code",
   "execution_count": 72,
   "id": "d05abc23",
   "metadata": {},
   "outputs": [
    {
     "name": "stdout",
     "output_type": "stream",
     "text": [
      "[112, 89]\n",
      "[25, 71]\n"
     ]
    },
    {
     "data": {
      "image/png": "[encoded data removed]",
      "text/plain": [
       "<Figure size 720x504 with 1 Axes>"
      ]
     },
     "metadata": {
      "needs_background": "light"
     },
     "output_type": "display_data"
    }
   ],
   "source": [
    "men_with_highC_HF=data_set[data_set[\"sex\"]==1]\n",
    "men_with_highC_HF=men_with_highC_HF[men_with_highC_HF['condition']==1]\n",
    "\n",
    "women_with_highC_HF=data_set[data_set[\"sex\"]==0]\n",
    "women_with_highC_HF=women_with_highC_HF[women_with_highC_HF['condition']==1]\n",
    "\n",
    "##Calculate data with low chance of heart-failure\n",
    "men_with_lowC_HF=data_set[data_set[\"sex\"]==1]\n",
    "men_with_lowC_HF=men_with_lowC_HF[men_with_lowC_HF['condition']==0]\n",
    "\n",
    "women_with_lowC_HF=data_set[data_set[\"sex\"]==0]\n",
    "women_with_lowC_HF=women_with_lowC_HF[women_with_lowC_HF['condition']==0]\n",
    "\n",
    "men=[len(men_with_highC_HF),len(men_with_lowC_HF)]\n",
    "women=[len(women_with_highC_HF),len(women_with_lowC_HF)]\n",
    "\n",
    "print(men)\n",
    "print(women)\n",
    "x_asis=[\"High chance\",\"Low chance\"]\n",
    "plt.figure(figsize=(10,7))\n",
    "plt.bar(x_asis, men, color='lightblue', label='Men')\n",
    "plt.bar(x_asis, women, color='pink', label='Women')\n",
    "plt.legend(loc='best')\n",
    "plt.grid()"
   ]
  },
  {
   "cell_type": "markdown",
   "id": "e9e2e337",
   "metadata": {},
   "source": [
    "Iz iznad prikazanog bar-charta možemo zaključiti da je veća vjerojatnost zastoja srca je kod muškaraca nego kod žena.Također vrijedi suprotno, mala šansa zastoja srca je više vjerojatnija za žene. Na temelju ovih rezultata iz desktiptivnog grafa možemo smatrati spol ispitanika kao prediktorsku varijablu koja može utjecati na izlaz modela strojnog učenja kojeg ćemo razviti u nastavku."
   ]
  },
  {
   "cell_type": "markdown",
   "id": "1a9b93f7",
   "metadata": {},
   "source": [
    "Naglasili smo da stupac \"oldpeak\" predstavlja razinu depresije ispitanika. U svrhu ovof rada želim pokazati kako ta varijabla utječe prvo na godine ispitanika."
   ]
  },
  {
   "cell_type": "code",
   "execution_count": 87,
   "id": "4808c5b3",
   "metadata": {},
   "outputs": [
    {
     "data": {
      "text/plain": [
       "<Figure size 720x720 with 0 Axes>"
      ]
     },
     "execution_count": 87,
     "metadata": {},
     "output_type": "execute_result"
    },
    {
     "data": {
      "image/png": "[encoded data removed]",
      "text/plain": [
       "<Figure size 432x288 with 1 Axes>"
      ]
     },
     "metadata": {
      "needs_background": "light"
     },
     "output_type": "display_data"
    },
    {
     "data": {
      "text/plain": [
       "<Figure size 720x720 with 0 Axes>"
      ]
     },
     "metadata": {},
     "output_type": "display_data"
    }
   ],
   "source": [
    "subset=data_set.copy()\n",
    "subset=subset.sort_values(by=['age'],ascending=False)\n",
    "\n",
    "subset_highChance = subset[subset['condition']==1]\n",
    "subset_lowChance = subset[subset['condition']==0]\n",
    "\n",
    "plt.plot(subset_lowChance[\"age\"],subset_lowChance[\"oldpeak\"])\n",
    "plt.figure(figsize=(10,10))"
   ]
  },
  {
   "cell_type": "code",
   "execution_count": null,
   "id": "5d83bedc",
   "metadata": {},
   "outputs": [],
   "source": []
  }
 ],
 "metadata": {
  "kernelspec": {
   "display_name": "Python 3 (ipykernel)",
   "language": "python",
   "name": "python3"
  },
  "language_info": {
   "codemirror_mode": {
    "name": "ipython",
    "version": 3
   },
   "file_extension": ".py",
   "mimetype": "text/x-python",
   "name": "python",
   "nbconvert_exporter": "python",
   "pygments_lexer": "ipython3",
   "version": "3.9.12"
  }
 },
 "nbformat": 4,
 "nbformat_minor": 5
}
